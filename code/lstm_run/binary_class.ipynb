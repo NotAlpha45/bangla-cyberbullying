{
 "cells": [
  {
   "cell_type": "markdown",
   "metadata": {},
   "source": [
    "# Bangla Cyberbullying Binary Classification with BiLSTM\n",
    "\n",
    "This notebook implements a Bidirectional LSTM (BiLSTM) classifier for binary classification of Bangla cyberbullying text (bullying vs. non-bullying)."
   ]
  },
  {
   "cell_type": "code",
   "execution_count": 1,
   "metadata": {},
   "outputs": [],
   "source": [
    "# Import necessary libraries\n",
    "import pandas as pd\n",
    "import numpy as np\n",
    "import matplotlib.pyplot as plt\n",
    "import seaborn as sns\n",
    "from sklearn.model_selection import train_test_split\n",
    "from sklearn.metrics import (\n",
    "    classification_report,\n",
    "    confusion_matrix,\n",
    "    roc_curve,\n",
    "    auc,\n",
    "    precision_recall_curve,\n",
    ")\n",
    "from sklearn.preprocessing import label_binarize\n",
    "from bnlp import SentencepieceTokenizer\n",
    "from bnlp.embedding.fasttext import BengaliFasttext\n",
    "from sklearn.preprocessing import LabelEncoder\n",
    "import time\n",
    "from itertools import cycle\n",
    "from sklearn.metrics import accuracy_score, precision_score, recall_score, f1_score\n",
    "import warnings\n",
    "\n",
    "# TensorFlow and Keras imports for BiLSTM\n",
    "import tensorflow as tf\n",
    "from tensorflow.keras.models import Sequential, load_model, save_model\n",
    "from tensorflow.keras.layers import Dense, Embedding, LSTM, Bidirectional, Dropout, SpatialDropout1D\n",
    "from tensorflow.keras.preprocessing.text import Tokenizer\n",
    "from tensorflow.keras.preprocessing.sequence import pad_sequences\n",
    "from tensorflow.keras.callbacks import EarlyStopping, ModelCheckpoint\n",
    "\n",
    "warnings.filterwarnings(\"ignore\")\n",
    "\n",
    "# Set plot style\n",
    "plt.style.use(\"ggplot\")\n",
    "sns.set(font_scale=1.2)\n",
    "sns.set_style(\"whitegrid\")"
   ]
  },
  {
   "cell_type": "markdown",
   "metadata": {},
   "source": [
    "## 1. Loading and Exploring Datasets"
   ]
  },
  {
   "cell_type": "code",
   "execution_count": 2,
   "metadata": {},
   "outputs": [
    {
     "name": "stdout",
     "output_type": "stream",
     "text": [
      "Loading datasets...\n",
      "Original dataset shape: (41907, 6)\n",
      "Augmented dataset shape: (6081, 3)\n"
     ]
    }
   ],
   "source": [
    "# 1. Load the datasets\n",
    "print(\"Loading datasets...\")\n",
    "original_cleaned_df = pd.read_csv(\"../../dataset/cleaned/original_cleaned.csv\")\n",
    "only_augmented_cleaned_df = pd.read_csv(\"../../dataset/cleaned/only_augmented.csv\")\n",
    "\n",
    "print(f\"Original dataset shape: {original_cleaned_df.shape}\")\n",
    "print(f\"Augmented dataset shape: {only_augmented_cleaned_df.shape}\")"
   ]
  },
  {
   "cell_type": "code",
   "execution_count": 3,
   "metadata": {},
   "outputs": [
    {
     "data": {
      "text/html": [
       "<div>\n",
       "<style scoped>\n",
       "    .dataframe tbody tr th:only-of-type {\n",
       "        vertical-align: middle;\n",
       "    }\n",
       "\n",
       "    .dataframe tbody tr th {\n",
       "        vertical-align: top;\n",
       "    }\n",
       "\n",
       "    .dataframe thead th {\n",
       "        text-align: right;\n",
       "    }\n",
       "</style>\n",
       "<table border=\"1\" class=\"dataframe\">\n",
       "  <thead>\n",
       "    <tr style=\"text-align: right;\">\n",
       "      <th></th>\n",
       "      <th>comment</th>\n",
       "      <th>Category</th>\n",
       "      <th>Gender</th>\n",
       "      <th>comment react number</th>\n",
       "      <th>label</th>\n",
       "      <th>text_length</th>\n",
       "    </tr>\n",
       "  </thead>\n",
       "  <tbody>\n",
       "    <tr>\n",
       "      <th>0</th>\n",
       "      <td>হালার পুত মদ খাওয়ার সময় রাতের বেলা মদ খাই দি...</td>\n",
       "      <td>Actor</td>\n",
       "      <td>Female</td>\n",
       "      <td>1.0</td>\n",
       "      <td>sexual</td>\n",
       "      <td>128</td>\n",
       "    </tr>\n",
       "    <tr>\n",
       "      <th>1</th>\n",
       "      <td>ঘরে শুট কেমন লেগেছে ক্যামেরাতে</td>\n",
       "      <td>Singer</td>\n",
       "      <td>Male</td>\n",
       "      <td>2.0</td>\n",
       "      <td>not bully</td>\n",
       "      <td>30</td>\n",
       "    </tr>\n",
       "    <tr>\n",
       "      <th>2</th>\n",
       "      <td>অরে বাবা টা পাগল</td>\n",
       "      <td>Actor</td>\n",
       "      <td>Female</td>\n",
       "      <td>2.0</td>\n",
       "      <td>not bully</td>\n",
       "      <td>16</td>\n",
       "    </tr>\n",
       "    <tr>\n",
       "      <th>3</th>\n",
       "      <td>ক্যাপ্টেন অফ বাংলাদেশ</td>\n",
       "      <td>Sports</td>\n",
       "      <td>Male</td>\n",
       "      <td>0.0</td>\n",
       "      <td>not bully</td>\n",
       "      <td>21</td>\n",
       "    </tr>\n",
       "    <tr>\n",
       "      <th>4</th>\n",
       "      <td>পটকা মাছ</td>\n",
       "      <td>Politician</td>\n",
       "      <td>Male</td>\n",
       "      <td>0.0</td>\n",
       "      <td>troll</td>\n",
       "      <td>8</td>\n",
       "    </tr>\n",
       "  </tbody>\n",
       "</table>\n",
       "</div>"
      ],
      "text/plain": [
       "                                             comment    Category  Gender   \n",
       "0  হালার পুত মদ খাওয়ার সময় রাতের বেলা মদ খাই দি...       Actor  Female  \\\n",
       "1                     ঘরে শুট কেমন লেগেছে ক্যামেরাতে      Singer    Male   \n",
       "2                                   অরে বাবা টা পাগল       Actor  Female   \n",
       "3                              ক্যাপ্টেন অফ বাংলাদেশ      Sports    Male   \n",
       "4                                           পটকা মাছ  Politician    Male   \n",
       "\n",
       "   comment react number      label  text_length  \n",
       "0                   1.0     sexual          128  \n",
       "1                   2.0  not bully           30  \n",
       "2                   2.0  not bully           16  \n",
       "3                   0.0  not bully           21  \n",
       "4                   0.0      troll            8  "
      ]
     },
     "execution_count": 3,
     "metadata": {},
     "output_type": "execute_result"
    }
   ],
   "source": [
    "# Display the first few rows of original dataset\n",
    "original_cleaned_df.head()"
   ]
  },
  {
   "cell_type": "markdown",
   "metadata": {},
   "source": [
    "## 2. Label Mapping and Visualization"
   ]
  },
  {
   "cell_type": "code",
   "execution_count": 4,
   "metadata": {},
   "outputs": [],
   "source": [
    "# Map the labels for binary classification (0 for 'not bully', 1 for all other classes)\n",
    "def binary_label_mapping(label):\n",
    "    return 0 if label == \"not bully\" else 1\n",
    "\n",
    "original_cleaned_df[\"label_encoded\"] = original_cleaned_df[\"label\"].apply(binary_label_mapping)\n",
    "only_augmented_cleaned_df[\"label_encoded\"] = only_augmented_cleaned_df[\"label\"].apply(binary_label_mapping)"
   ]
  },
  {
   "cell_type": "code",
   "execution_count": 5,
   "metadata": {},
   "outputs": [
    {
     "data": {
      "image/png": "[encoded data removed]",
      "text/plain": [
       "<Figure size 1000x500 with 1 Axes>"
      ]
     },
     "metadata": {},
     "output_type": "display_data"
    }
   ],
   "source": [
    "# Check the distribution of binary labels\n",
    "plt.figure(figsize=(10, 5))\n",
    "sns.countplot(x=\"label_encoded\", data=original_cleaned_df, palette=\"viridis\")\n",
    "plt.title(\"Distribution of Binary Labels in Original Dataset\")\n",
    "plt.xticks([0, 1], [\"Not Bullying (0)\", \"Bullying (1)\"])\n",
    "plt.tight_layout()\n",
    "plt.show()"
   ]
  },
  {
   "cell_type": "markdown",
   "metadata": {},
   "source": [
    "## 3. Data Splitting and Augmentation"
   ]
  },
  {
   "cell_type": "code",
   "execution_count": 6,
   "metadata": {},
   "outputs": [
    {
     "name": "stdout",
     "output_type": "stream",
     "text": [
      "Training set size before augmentation: 33525\n",
      "Test set size: 8382\n"
     ]
    }
   ],
   "source": [
    "# Split the original dataset into train and test sets\n",
    "X = original_cleaned_df[\"comment\"]\n",
    "y = original_cleaned_df[\"label_encoded\"]\n",
    "\n",
    "X_train, X_test, y_train, y_test = train_test_split(\n",
    "    X, y, test_size=0.2, random_state=42, stratify=y\n",
    ")\n",
    "\n",
    "print(f\"Training set size before augmentation: {len(X_train)}\")\n",
    "print(f\"Test set size: {len(X_test)}\")"
   ]
  },
  {
   "cell_type": "code",
   "execution_count": 7,
   "metadata": {},
   "outputs": [
    {
     "name": "stdout",
     "output_type": "stream",
     "text": [
      "Training set size after augmentation: 39606\n"
     ]
    }
   ],
   "source": [
    "# Add augmented data to the training set\n",
    "X_aug = only_augmented_cleaned_df[\"text\"]\n",
    "y_aug = only_augmented_cleaned_df[\"label_encoded\"]\n",
    "\n",
    "# Concatenate original training data with augmented data\n",
    "X_train_augmented = pd.concat([X_train, X_aug])\n",
    "y_train_augmented = pd.concat([y_train, y_aug])\n",
    "\n",
    "print(f\"Training set size after augmentation: {len(X_train_augmented)}\")"
   ]
  },
  {
   "cell_type": "code",
   "execution_count": 8,
   "metadata": {},
   "outputs": [
    {
     "data": {
      "image/png": "[encoded data removed]",
      "text/plain": [
       "<Figure size 1500x600 with 2 Axes>"
      ]
     },
     "metadata": {},
     "output_type": "display_data"
    }
   ],
   "source": [
    "# Visualize the binary class distribution before and after augmentation\n",
    "plt.figure(figsize=(15, 6))\n",
    "\n",
    "plt.subplot(1, 2, 1)\n",
    "sns.countplot(x=y_train, palette=\"viridis\")\n",
    "plt.title(\"Binary Class Distribution in Original Training Set\")\n",
    "plt.xlabel(\"Class Label\")\n",
    "plt.xticks([0, 1], [\"Not Bullying (0)\", \"Bullying (1)\"])\n",
    "plt.ylabel(\"Count\")\n",
    "\n",
    "plt.subplot(1, 2, 2)\n",
    "sns.countplot(x=y_train_augmented, palette=\"viridis\")\n",
    "plt.title(\"Binary Class Distribution After Augmentation\")\n",
    "plt.xlabel(\"Class Label\")\n",
    "plt.xticks([0, 1], [\"Not Bullying (0)\", \"Bullying (1)\"])\n",
    "plt.ylabel(\"Count\")\n",
    "\n",
    "plt.tight_layout()\n",
    "plt.show()"
   ]
  },
  {
   "cell_type": "markdown",
   "metadata": {},
   "source": [
    "## 4. Text Tokenization and Sequence Preparation"
   ]
  },
  {
   "cell_type": "code",
   "execution_count": 9,
   "metadata": {},
   "outputs": [
    {
     "name": "stdout",
     "output_type": "stream",
     "text": [
      "Initializing Keras tokenizer...\n",
      "Found 78304 unique tokens\n"
     ]
    }
   ],
   "source": [
    "# Initialize tokenizer from Keras for BiLSTM model\n",
    "print(\"Initializing Keras tokenizer...\")\n",
    "MAX_NUM_WORDS = 10000  # Maximum number of words to keep\n",
    "MAX_SEQUENCE_LENGTH = 100  # Maximum length of sequences\n",
    "\n",
    "# Create a tokenizer that works on the Bangla text\n",
    "tokenizer = Tokenizer(num_words=MAX_NUM_WORDS, oov_token='<UNK>')\n",
    "tokenizer.fit_on_texts(pd.concat([X_train_augmented, X_test]))\n",
    "\n",
    "# Get the word index and vocabulary size\n",
    "word_index = tokenizer.word_index\n",
    "print(f\"Found {len(word_index)} unique tokens\")"
   ]
  },
  {
   "cell_type": "code",
   "execution_count": 10,
   "metadata": {},
   "outputs": [],
   "source": [
    "# Convert texts to sequences and pad them for LSTM input\n",
    "def texts_to_sequences(texts):\n",
    "    # Convert texts to sequences of integers\n",
    "    sequences = tokenizer.texts_to_sequences(texts)\n",
    "    # Pad sequences to ensure uniform length\n",
    "    padded_sequences = pad_sequences(sequences, maxlen=MAX_SEQUENCE_LENGTH)\n",
    "    return padded_sequences"
   ]
  },
  {
   "cell_type": "code",
   "execution_count": 11,
   "metadata": {},
   "outputs": [
    {
     "name": "stdout",
     "output_type": "stream",
     "text": [
      "Converting training texts to sequences...\n",
      "Training data sequence conversion completed in 0.72 seconds\n",
      "Training sequence shape: (39606, 100)\n"
     ]
    }
   ],
   "source": [
    "# Apply tokenization and padding to training data\n",
    "print(\"Converting training texts to sequences...\")\n",
    "start_time = time.time()\n",
    "X_train_sequences = texts_to_sequences(X_train_augmented)\n",
    "print(\n",
    "    f\"Training data sequence conversion completed in {time.time() - start_time:.2f} seconds\"\n",
    ")\n",
    "print(f\"Training sequence shape: {X_train_sequences.shape}\")"
   ]
  },
  {
   "cell_type": "code",
   "execution_count": 12,
   "metadata": {},
   "outputs": [
    {
     "name": "stdout",
     "output_type": "stream",
     "text": [
      "Converting testing texts to sequences...\n",
      "Testing data sequence conversion completed in 0.14 seconds\n",
      "Testing sequence shape: (8382, 100)\n"
     ]
    }
   ],
   "source": [
    "# Apply tokenization and padding to testing data\n",
    "print(\"Converting testing texts to sequences...\")\n",
    "start_time = time.time()\n",
    "X_test_sequences = texts_to_sequences(X_test)\n",
    "print(f\"Testing data sequence conversion completed in {time.time() - start_time:.2f} seconds\")\n",
    "print(f\"Testing sequence shape: {X_test_sequences.shape}\")"
   ]
  },
  {
   "cell_type": "code",
   "execution_count": 13,
   "metadata": {},
   "outputs": [
    {
     "name": "stdout",
     "output_type": "stream",
     "text": [
      "Initializing word embedding matrix...\n",
      "Embedding matrix shape: (78305, 300)\n"
     ]
    }
   ],
   "source": [
    "# Initialize embedding layer with Bengali FastText embeddings\n",
    "print(\"Initializing word embedding matrix...\")\n",
    "EMBEDDING_DIM = 300  # FastText vectors are 300-dimensional\n",
    "fasttext_model = BengaliFasttext()\n",
    "\n",
    "# Create an embedding matrix using pre-trained FastText vectors\n",
    "embedding_matrix = np.zeros((len(word_index) + 1, EMBEDDING_DIM))\n",
    "for word, i in word_index.items():\n",
    "    try:\n",
    "        embedding_vector = fasttext_model.get_word_vector(word)\n",
    "        if embedding_vector is not None:\n",
    "            embedding_matrix[i] = embedding_vector\n",
    "    except:\n",
    "        continue  # Skip words not in the embedding model\n",
    "\n",
    "print(f\"Embedding matrix shape: {embedding_matrix.shape}\")"
   ]
  },
  {
   "cell_type": "markdown",
   "metadata": {},
   "source": [
    "## 5. Building and Training BiLSTM Model"
   ]
  },
  {
   "cell_type": "code",
   "execution_count": 14,
   "metadata": {},
   "outputs": [
    {
     "name": "stdout",
     "output_type": "stream",
     "text": [
      "Building BiLSTM model...\n"
     ]
    },
    {
     "data": {
      "text/html": [
       "<pre style=\"white-space:pre;overflow-x:auto;line-height:normal;font-family:Menlo,'DejaVu Sans Mono',consolas,'Courier New',monospace\"><span style=\"font-weight: bold\">Model: \"sequential\"</span>\n",
       "</pre>\n"
      ],
      "text/plain": [
       "\u001b[1mModel: \"sequential\"\u001b[0m\n"
      ]
     },
     "metadata": {},
     "output_type": "display_data"
    },
    {
     "data": {
      "text/html": [
       "<pre style=\"white-space:pre;overflow-x:auto;line-height:normal;font-family:Menlo,'DejaVu Sans Mono',consolas,'Courier New',monospace\">┏━━━━━━━━━━━━━━━━━━━━━━━━━━━━━━━━━┳━━━━━━━━━━━━━━━━━━━━━━━━┳━━━━━━━━━━━━━━━┓\n",
       "┃<span style=\"font-weight: bold\"> Layer (type)                    </span>┃<span style=\"font-weight: bold\"> Output Shape           </span>┃<span style=\"font-weight: bold\">       Param # </span>┃\n",
       "┡━━━━━━━━━━━━━━━━━━━━━━━━━━━━━━━━━╇━━━━━━━━━━━━━━━━━━━━━━━━╇━━━━━━━━━━━━━━━┩\n",
       "│ embedding (<span style=\"color: #0087ff; text-decoration-color: #0087ff\">Embedding</span>)           │ ?                      │    <span style=\"color: #00af00; text-decoration-color: #00af00\">23,491,500</span> │\n",
       "├─────────────────────────────────┼────────────────────────┼───────────────┤\n",
       "│ spatial_dropout1d               │ ?                      │             <span style=\"color: #00af00; text-decoration-color: #00af00\">0</span> │\n",
       "│ (<span style=\"color: #0087ff; text-decoration-color: #0087ff\">SpatialDropout1D</span>)              │                        │               │\n",
       "├─────────────────────────────────┼────────────────────────┼───────────────┤\n",
       "│ bidirectional (<span style=\"color: #0087ff; text-decoration-color: #0087ff\">Bidirectional</span>)   │ ?                      │   <span style=\"color: #00af00; text-decoration-color: #00af00\">0</span> (unbuilt) │\n",
       "├─────────────────────────────────┼────────────────────────┼───────────────┤\n",
       "│ dropout (<span style=\"color: #0087ff; text-decoration-color: #0087ff\">Dropout</span>)               │ ?                      │             <span style=\"color: #00af00; text-decoration-color: #00af00\">0</span> │\n",
       "├─────────────────────────────────┼────────────────────────┼───────────────┤\n",
       "│ bidirectional_1 (<span style=\"color: #0087ff; text-decoration-color: #0087ff\">Bidirectional</span>) │ ?                      │   <span style=\"color: #00af00; text-decoration-color: #00af00\">0</span> (unbuilt) │\n",
       "├─────────────────────────────────┼────────────────────────┼───────────────┤\n",
       "│ dropout_1 (<span style=\"color: #0087ff; text-decoration-color: #0087ff\">Dropout</span>)             │ ?                      │             <span style=\"color: #00af00; text-decoration-color: #00af00\">0</span> │\n",
       "├─────────────────────────────────┼────────────────────────┼───────────────┤\n",
       "│ dense (<span style=\"color: #0087ff; text-decoration-color: #0087ff\">Dense</span>)                   │ ?                      │   <span style=\"color: #00af00; text-decoration-color: #00af00\">0</span> (unbuilt) │\n",
       "├─────────────────────────────────┼────────────────────────┼───────────────┤\n",
       "│ dense_1 (<span style=\"color: #0087ff; text-decoration-color: #0087ff\">Dense</span>)                 │ ?                      │   <span style=\"color: #00af00; text-decoration-color: #00af00\">0</span> (unbuilt) │\n",
       "└─────────────────────────────────┴────────────────────────┴───────────────┘\n",
       "</pre>\n"
      ],
      "text/plain": [
       "┏━━━━━━━━━━━━━━━━━━━━━━━━━━━━━━━━━┳━━━━━━━━━━━━━━━━━━━━━━━━┳━━━━━━━━━━━━━━━┓\n",
       "┃\u001b[1m \u001b[0m\u001b[1mLayer (type)                   \u001b[0m\u001b[1m \u001b[0m┃\u001b[1m \u001b[0m\u001b[1mOutput Shape          \u001b[0m\u001b[1m \u001b[0m┃\u001b[1m \u001b[0m\u001b[1m      Param #\u001b[0m\u001b[1m \u001b[0m┃\n",
       "┡━━━━━━━━━━━━━━━━━━━━━━━━━━━━━━━━━╇━━━━━━━━━━━━━━━━━━━━━━━━╇━━━━━━━━━━━━━━━┩\n",
       "│ embedding (\u001b[38;5;33mEmbedding\u001b[0m)           │ ?                      │    \u001b[38;5;34m23,491,500\u001b[0m │\n",
       "├─────────────────────────────────┼────────────────────────┼───────────────┤\n",
       "│ spatial_dropout1d               │ ?                      │             \u001b[38;5;34m0\u001b[0m │\n",
       "│ (\u001b[38;5;33mSpatialDropout1D\u001b[0m)              │                        │               │\n",
       "├─────────────────────────────────┼────────────────────────┼───────────────┤\n",
       "│ bidirectional (\u001b[38;5;33mBidirectional\u001b[0m)   │ ?                      │   \u001b[38;5;34m0\u001b[0m (unbuilt) │\n",
       "├─────────────────────────────────┼────────────────────────┼───────────────┤\n",
       "│ dropout (\u001b[38;5;33mDropout\u001b[0m)               │ ?                      │             \u001b[38;5;34m0\u001b[0m │\n",
       "├─────────────────────────────────┼────────────────────────┼───────────────┤\n",
       "│ bidirectional_1 (\u001b[38;5;33mBidirectional\u001b[0m) │ ?                      │   \u001b[38;5;34m0\u001b[0m (unbuilt) │\n",
       "├─────────────────────────────────┼────────────────────────┼───────────────┤\n",
       "│ dropout_1 (\u001b[38;5;33mDropout\u001b[0m)             │ ?                      │             \u001b[38;5;34m0\u001b[0m │\n",
       "├─────────────────────────────────┼────────────────────────┼───────────────┤\n",
       "│ dense (\u001b[38;5;33mDense\u001b[0m)                   │ ?                      │   \u001b[38;5;34m0\u001b[0m (unbuilt) │\n",
       "├─────────────────────────────────┼────────────────────────┼───────────────┤\n",
       "│ dense_1 (\u001b[38;5;33mDense\u001b[0m)                 │ ?                      │   \u001b[38;5;34m0\u001b[0m (unbuilt) │\n",
       "└─────────────────────────────────┴────────────────────────┴───────────────┘\n"
      ]
     },
     "metadata": {},
     "output_type": "display_data"
    },
    {
     "data": {
      "text/html": [
       "<pre style=\"white-space:pre;overflow-x:auto;line-height:normal;font-family:Menlo,'DejaVu Sans Mono',consolas,'Courier New',monospace\"><span style=\"font-weight: bold\"> Total params: </span><span style=\"color: #00af00; text-decoration-color: #00af00\">23,491,500</span> (89.61 MB)\n",
       "</pre>\n"
      ],
      "text/plain": [
       "\u001b[1m Total params: \u001b[0m\u001b[38;5;34m23,491,500\u001b[0m (89.61 MB)\n"
      ]
     },
     "metadata": {},
     "output_type": "display_data"
    },
    {
     "data": {
      "text/html": [
       "<pre style=\"white-space:pre;overflow-x:auto;line-height:normal;font-family:Menlo,'DejaVu Sans Mono',consolas,'Courier New',monospace\"><span style=\"font-weight: bold\"> Trainable params: </span><span style=\"color: #00af00; text-decoration-color: #00af00\">0</span> (0.00 B)\n",
       "</pre>\n"
      ],
      "text/plain": [
       "\u001b[1m Trainable params: \u001b[0m\u001b[38;5;34m0\u001b[0m (0.00 B)\n"
      ]
     },
     "metadata": {},
     "output_type": "display_data"
    },
    {
     "data": {
      "text/html": [
       "<pre style=\"white-space:pre;overflow-x:auto;line-height:normal;font-family:Menlo,'DejaVu Sans Mono',consolas,'Courier New',monospace\"><span style=\"font-weight: bold\"> Non-trainable params: </span><span style=\"color: #00af00; text-decoration-color: #00af00\">23,491,500</span> (89.61 MB)\n",
       "</pre>\n"
      ],
      "text/plain": [
       "\u001b[1m Non-trainable params: \u001b[0m\u001b[38;5;34m23,491,500\u001b[0m (89.61 MB)\n"
      ]
     },
     "metadata": {},
     "output_type": "display_data"
    }
   ],
   "source": [
    "# Configure and create BiLSTM model\n",
    "print(\"Building BiLSTM model...\")\n",
    "\n",
    "# Define model architecture\n",
    "model = Sequential()\n",
    "model.add(Embedding(len(word_index) + 1,  # Vocabulary size\n",
    "                   EMBEDDING_DIM,        # Embedding dimension\n",
    "                   weights=[embedding_matrix],  # Pre-trained embedding weights\n",
    "                   input_length=MAX_SEQUENCE_LENGTH,\n",
    "                   trainable=False))     # Keep embeddings fixed\n",
    "\n",
    "model.add(SpatialDropout1D(0.3))  # Apply dropout to embeddings\n",
    "model.add(Bidirectional(LSTM(128, return_sequences=True)))  # First BiLSTM layer\n",
    "model.add(Dropout(0.3))  # Apply dropout for regularization\n",
    "model.add(Bidirectional(LSTM(64)))  # Second BiLSTM layer\n",
    "model.add(Dropout(0.3))  # Apply dropout for regularization\n",
    "model.add(Dense(32, activation='relu'))  # Dense layer\n",
    "model.add(Dense(1, activation='sigmoid'))  # Output layer for binary classification\n",
    "\n",
    "# Compile model\n",
    "model.compile(loss='binary_crossentropy',\n",
    "              optimizer='adam',\n",
    "              metrics=['accuracy'])\n",
    "\n",
    "# Display model summary\n",
    "model.summary()"
   ]
  },
  {
   "cell_type": "code",
   "execution_count": null,
   "metadata": {},
   "outputs": [
    {
     "name": "stdout",
     "output_type": "stream",
     "text": [
      "Training BiLSTM model...\n",
      "Epoch 1/10\n",
      "\u001b[1m557/557\u001b[0m \u001b[32m━━━━━━━━━━━━━━━━━━━━\u001b[0m\u001b[37m\u001b[0m \u001b[1m0s\u001b[0m 119ms/step - accuracy: 0.6792 - loss: 0.6740"
     ]
    },
    {
     "name": "stderr",
     "output_type": "stream",
     "text": [
      "WARNING:absl:You are saving your model as an HDF5 file via `model.save()` or `keras.saving.save_model(model)`. This file format is considered legacy. We recommend using instead the native Keras format, e.g. `model.save('my_model.keras')` or `keras.saving.save_model(model, 'my_model.keras')`. \n"
     ]
    },
    {
     "name": "stdout",
     "output_type": "stream",
     "text": [
      "\u001b[1m557/557\u001b[0m \u001b[32m━━━━━━━━━━━━━━━━━━━━\u001b[0m\u001b[37m\u001b[0m \u001b[1m74s\u001b[0m 124ms/step - accuracy: 0.6792 - loss: 0.6740 - val_accuracy: 1.0000 - val_loss: 0.5053\n",
      "Epoch 2/10\n",
      "\u001b[1m401/557\u001b[0m \u001b[32m━━━━━━━━━━━━━━\u001b[0m\u001b[37m━━━━━━\u001b[0m \u001b[1m18s\u001b[0m 116ms/step - accuracy: 0.6810 - loss: 0.6357"
     ]
    }
   ],
   "source": [
    "# Define callbacks for early stopping and model checkpoint\n",
    "early_stopping = EarlyStopping(monitor='val_loss', patience=3, restore_best_weights=True)\n",
    "model_checkpoint = ModelCheckpoint('../../models/lstm/binary_bilstm_best.h5', \n",
    "                                 monitor='val_accuracy', \n",
    "                                 save_best_only=True, \n",
    "                                 mode='max')\n",
    "\n",
    "# Train the BiLSTM model\n",
    "print(\"Training BiLSTM model...\")\n",
    "start_time = time.time()\n",
    "\n",
    "history = model.fit(\n",
    "    X_train_sequences,\n",
    "    y_train_augmented,\n",
    "    validation_split=0.1,  # Use 10% of training data as validation\n",
    "    epochs=10,            # Training for 10 epochs\n",
    "    batch_size=64,        # Batch size\n",
    "    callbacks=[early_stopping, model_checkpoint]\n",
    ")\n",
    "\n",
    "training_time = time.time() - start_time\n",
    "print(f\"Model trained in {training_time:.2f} seconds\")"
   ]
  },
  {
   "cell_type": "code",
   "execution_count": null,
   "metadata": {},
   "outputs": [],
   "source": [
    "# Visualize training history\n",
    "plt.figure(figsize=(12, 5))\n",
    "\n",
    "# Plot training & validation accuracy\n",
    "plt.subplot(1, 2, 1)\n",
    "plt.plot(history.history['accuracy'], label='Training Accuracy')\n",
    "plt.plot(history.history['val_accuracy'], label='Validation Accuracy')\n",
    "plt.title('Model Accuracy')\n",
    "plt.ylabel('Accuracy')\n",
    "plt.xlabel('Epoch')\n",
    "plt.legend(loc='lower right')\n",
    "\n",
    "# Plot training & validation loss\n",
    "plt.subplot(1, 2, 2)\n",
    "plt.plot(history.history['loss'], label='Training Loss')\n",
    "plt.plot(history.history['val_loss'], label='Validation Loss')\n",
    "plt.title('Model Loss')\n",
    "plt.ylabel('Loss')\n",
    "plt.xlabel('Epoch')\n",
    "plt.legend(loc='upper right')\n",
    "\n",
    "plt.tight_layout()\n",
    "plt.show()"
   ]
  },
  {
   "cell_type": "markdown",
   "metadata": {},
   "source": [
    "## 6. Model Evaluation - Basic Metrics"
   ]
  },
  {
   "cell_type": "code",
   "execution_count": null,
   "metadata": {},
   "outputs": [],
   "source": [
    "# Make predictions and calculate basic metrics\n",
    "print(\"Evaluating model...\")\n",
    "y_pred_proba = model.predict(X_test_sequences)\n",
    "y_pred = (y_pred_proba > 0.5).astype(int).flatten()  # Convert probabilities to class labels\n",
    "\n",
    "# Calculate basic metrics\n",
    "accuracy = accuracy_score(y_test, y_pred)\n",
    "precision = precision_score(y_test, y_pred, average=\"weighted\")\n",
    "recall = recall_score(y_test, y_pred, average=\"weighted\")\n",
    "f1 = f1_score(y_test, y_pred, average=\"weighted\")\n",
    "\n",
    "print(f\"Accuracy: {accuracy:.4f}\")\n",
    "print(f\"Precision: {precision:.4f}\")\n",
    "print(f\"Recall: {recall:.4f}\")\n",
    "print(f\"F1 Score: {f1:.4f}\")"
   ]
  },
  {
   "cell_type": "code",
   "execution_count": null,
   "metadata": {},
   "outputs": [],
   "source": [
    "# Display classification report for binary classification\n",
    "print(\"Classification Report:\")\n",
    "print(classification_report(y_test, y_pred, target_names=[\"Not Bullying\", \"Bullying\"]))"
   ]
  },
  {
   "cell_type": "markdown",
   "metadata": {},
   "source": [
    "## 7. Confusion Matrix Visualization"
   ]
  },
  {
   "cell_type": "code",
   "execution_count": null,
   "metadata": {},
   "outputs": [],
   "source": [
    "# Create and display confusion matrix for binary classification\n",
    "plt.figure(figsize=(8, 6))\n",
    "cm = confusion_matrix(y_test, y_pred)\n",
    "cm_norm = cm.astype(\"float\") / cm.sum(axis=1)[:, np.newaxis]  # Normalize\n",
    "sns.heatmap(\n",
    "    cm_norm,\n",
    "    annot=True,\n",
    "    fmt=\".2f\",\n",
    "    cmap=\"Blues\",\n",
    "    xticklabels=[\"Not Bullying\", \"Bullying\"],\n",
    "    yticklabels=[\"Not Bullying\", \"Bullying\"],\n",
    ")\n",
    "plt.xlabel(\"Predicted Label\")\n",
    "plt.ylabel(\"True Label\")\n",
    "plt.title(\"Binary Classification Confusion Matrix\")\n",
    "plt.tight_layout()\n",
    "plt.show()"
   ]
  },
  {
   "cell_type": "markdown",
   "metadata": {},
   "source": [
    "## 8. Model Analysis"
   ]
  },
  {
   "cell_type": "code",
   "execution_count": null,
   "metadata": {},
   "outputs": [],
   "source": [
    "# Analyze model performance on different examples\n",
    "def predict_text(text):\n",
    "    # Convert to sequence and predict\n",
    "    sequence = texts_to_sequences([text])\n",
    "    prediction = model.predict(sequence)[0][0]\n",
    "    predicted_class = 'Bullying' if prediction > 0.5 else 'Not Bullying'\n",
    "    return predicted_class, prediction\n",
    "\n",
    "# Sample some examples from test set for analysis\n",
    "sample_indices = np.random.choice(range(len(X_test)), 10, replace=False)\n",
    "sample_texts = X_test.iloc[sample_indices].values\n",
    "sample_labels = y_test.iloc[sample_indices].values\n",
    "\n",
    "for i, (text, true_label) in enumerate(zip(sample_texts, sample_labels)):\n",
    "    predicted_class, confidence = predict_text(text)\n",
    "    true_class = 'Bullying' if true_label == 1 else 'Not Bullying'\n",
    "    print(f\"Example {i+1}:\")\n",
    "    print(f\"Text: {text[:100]}...\" if len(text) > 100 else f\"Text: {text}\")\n",
    "    print(f\"True class: {true_class}\")\n",
    "    print(f\"Predicted class: {predicted_class} (confidence: {confidence:.4f})\")\n",
    "    print(\"-\" * 80)"
   ]
  },
  {
   "cell_type": "markdown",
   "metadata": {},
   "source": [
    "## 9. ROC Curve Analysis"
   ]
  },
  {
   "cell_type": "code",
   "execution_count": null,
   "metadata": {},
   "outputs": [],
   "source": [
    "# ROC Curve and AUC for binary classification\n",
    "y_score = model.predict(X_test_sequences).flatten()  # Probability of positive class\n",
    "\n",
    "# Calculate ROC curve and ROC area\n",
    "fpr, tpr, _ = roc_curve(y_test, y_score)\n",
    "roc_auc = auc(fpr, tpr)\n",
    "\n",
    "plt.figure(figsize=(10, 8))\n",
    "plt.plot(fpr, tpr, color='darkorange', lw=2, label=f'ROC curve (area = {roc_auc:.2f})')\n",
    "plt.plot([0, 1], [0, 1], color='navy', lw=2, linestyle='--')\n",
    "plt.xlim([0.0, 1.0])\n",
    "plt.ylim([0.0, 1.05])\n",
    "plt.xlabel('False Positive Rate')\n",
    "plt.ylabel('True Positive Rate')\n",
    "plt.title('Binary Classification ROC Curve')\n",
    "plt.legend(loc=\"lower right\")\n",
    "plt.tight_layout()\n",
    "plt.show()"
   ]
  },
  {
   "cell_type": "markdown",
   "metadata": {},
   "source": [
    "## 10. Precision-Recall Curve Analysis"
   ]
  },
  {
   "cell_type": "code",
   "execution_count": null,
   "metadata": {},
   "outputs": [],
   "source": [
    "# Calculate Precision-Recall curve for binary classification\n",
    "precision, recall, _ = precision_recall_curve(y_test, y_score)\n",
    "avg_precision = precision_score(y_test, y_pred)\n",
    "\n",
    "plt.figure(figsize=(10, 8))\n",
    "plt.plot(recall, precision, color='blue', lw=2, label=f'Precision-Recall curve (AP = {avg_precision:.2f})')\n",
    "plt.xlabel('Recall')\n",
    "plt.ylabel('Precision')\n",
    "plt.ylim([0.0, 1.05])\n",
    "plt.xlim([0.0, 1.0])\n",
    "plt.title('Binary Classification Precision-Recall Curve')\n",
    "plt.legend(loc=\"lower left\")\n",
    "plt.tight_layout()\n",
    "plt.show()"
   ]
  },
  {
   "cell_type": "markdown",
   "metadata": {},
   "source": [
    "## 11. Model Summary and Saving"
   ]
  },
  {
   "cell_type": "code",
   "execution_count": null,
   "metadata": {},
   "outputs": [],
   "source": [
    "# Summary of the binary classification model\n",
    "print(\"Binary Classification BiLSTM Model Summary:\")\n",
    "print(f\"Total samples in training set (with augmentation): {len(X_train_augmented)}\")\n",
    "print(f\"Total samples in test set: {len(X_test)}\")\n",
    "print(f\"Vocabulary size: {len(word_index)}\")\n",
    "print(f\"Maximum sequence length: {MAX_SEQUENCE_LENGTH}\")\n",
    "print(f\"Embedding dimension: {EMBEDDING_DIM}\")\n",
    "print(f\"Final model accuracy on test set: {accuracy:.4f}\")\n",
    "plt.show()"
   ]
  },
  {
   "cell_type": "code",
   "execution_count": null,
   "metadata": {},
   "outputs": [],
   "source": [
    "# Save the model\n",
    "model.save(\"../../models/lstm/binary_bilstm_final.h5\")\n",
    "\n",
    "# Also save the tokenizer for future use\n",
    "import pickle\n",
    "with open(\"../../models/lstm/binary_tokenizer.pickle\", \"wb\") as handle:\n",
    "    pickle.dump(tokenizer, handle, protocol=pickle.HIGHEST_PROTOCOL)\n",
    "\n",
    "print(\"Model and tokenizer saved successfully.\")"
   ]
  }
 ],
 "metadata": {
  "kernelspec": {
   "display_name": "venv",
   "language": "python",
   "name": "python3"
  },
  "language_info": {
   "codemirror_mode": {
    "name": "ipython",
    "version": 3
   },
   "file_extension": ".py",
   "mimetype": "text/x-python",
   "name": "python",
   "nbconvert_exporter": "python",
   "pygments_lexer": "ipython3",
   "version": "3.12.3"
  }
 },
 "nbformat": 4,
 "nbformat_minor": 2
}
