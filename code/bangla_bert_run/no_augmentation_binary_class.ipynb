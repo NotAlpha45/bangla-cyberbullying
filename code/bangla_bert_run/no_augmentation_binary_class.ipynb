{
 "cells": [
  {
   "cell_type": "markdown",
   "metadata": {},
   "source": [
    "# Bangla Cyberbullying Binary Classification with XGB\n",
    "\n",
    "This notebook implements a xgb classifier for binary classification of Bangla cyberbullying text (bullying vs. non-bullying)."
   ]
  },
  {
   "cell_type": "code",
   "execution_count": null,
   "metadata": {},
   "outputs": [],
   "source": [
    "# Import necessary libraries\n",
    "import pandas as pd\n",
    "import numpy as np\n",
    "import matplotlib.pyplot as plt\n",
    "import seaborn as sns\n",
    "from sklearn.model_selection import train_test_split\n",
    "from sklearn.ensemble import RandomForestClassifier\n",
    "from sklearn.metrics import (\n",
    "    classification_report,\n",
    "    confusion_matrix,\n",
    "    roc_curve,\n",
    "    auc,\n",
    "    precision_recall_curve,\n",
    ")\n",
    "from sklearn.preprocessing import label_binarize\n",
    "from sklearn.discriminant_analysis import StandardScaler\n",
    "from bnlp import SentencepieceTokenizer\n",
    "from bnlp.embedding.fasttext import BengaliFasttext\n",
    "from sklearn.preprocessing import LabelEncoder\n",
    "import time\n",
    "from sklearn.metrics import accuracy_score, precision_score, recall_score, f1_score\n",
    "import warnings\n",
    "import torch\n",
    "import os\n",
    "from transformers import AutoTokenizer, AutoModel\n",
    "from xgboost import XGBClassifier\n",
    "\n",
    "warnings.filterwarnings(\"ignore\")\n",
    "\n",
    "# Set plot style\n",
    "plt.style.use(\"ggplot\")\n",
    "sns.set(font_scale=1.2)\n",
    "sns.set_style(\"whitegrid\")\n",
    "\n",
    "from sklearn.decomposition import PCA\n",
    "from sklearn.manifold import TSNE\n",
    "import time"
   ]
  },
  {
   "cell_type": "code",
   "execution_count": null,
   "metadata": {},
   "outputs": [],
   "source": [
    "MY_DEVICE = torch.device(\"cuda\" if torch.cuda.is_available() else \"cpu\")\n",
    "torch.cuda.get_device_name(MY_DEVICE)"
   ]
  },
  {
   "cell_type": "code",
   "execution_count": null,
   "metadata": {},
   "outputs": [],
   "source": [
    "os.environ[\"PYTORCH_CUDA_ALLOC_CONF\"] = \"caching_allocator\""
   ]
  },
  {
   "cell_type": "markdown",
   "metadata": {},
   "source": [
    "## 1. Loading and Exploring Datasets"
   ]
  },
  {
   "cell_type": "code",
   "execution_count": null,
   "metadata": {},
   "outputs": [],
   "source": [
    "# 1. Load the dataset\n",
    "print(\"Loading dataset...\")\n",
    "original_cleaned_df = pd.read_csv(\"../../dataset/cleaned/original_cleaned.csv\")\n",
    "\n",
    "print(f\"Original dataset shape: {original_cleaned_df.shape}\")"
   ]
  },
  {
   "cell_type": "code",
   "execution_count": null,
   "metadata": {},
   "outputs": [],
   "source": [
    "# Display the first few rows of original dataset\n",
    "original_cleaned_df.head()"
   ]
  },
  {
   "cell_type": "markdown",
   "metadata": {},
   "source": [
    "## 2. Label Mapping and Visualization"
   ]
  },
  {
   "cell_type": "code",
   "execution_count": null,
   "metadata": {},
   "outputs": [],
   "source": [
    "# Map the labels for binary classification (0 for 'not bully', 1 for all other classes)\n",
    "def binary_label_mapping(label):\n",
    "    return 0 if label == \"not bully\" else 1\n",
    "\n",
    "original_cleaned_df[\"label_encoded\"] = original_cleaned_df[\"label\"].apply(binary_label_mapping)"
   ]
  },
  {
   "cell_type": "code",
   "execution_count": null,
   "metadata": {},
   "outputs": [],
   "source": [
    "# Check the distribution of binary labels\n",
    "plt.figure(figsize=(10, 5))\n",
    "sns.countplot(x=\"label_encoded\", data=original_cleaned_df, palette=\"viridis\")\n",
    "plt.title(\"Distribution of Binary Labels in Original Dataset\")\n",
    "plt.xticks([0, 1], [\"Not Bullying (0)\", \"Bullying (1)\"])\n",
    "plt.tight_layout()\n",
    "plt.show()"
   ]
  },
  {
   "cell_type": "markdown",
   "metadata": {},
   "source": [
    "## 3. Data Splitting"
   ]
  },
  {
   "cell_type": "code",
   "execution_count": null,
   "metadata": {},
   "outputs": [],
   "source": [
    "# Split the original dataset into train and test sets\n",
    "X = original_cleaned_df[\"comment\"]\n",
    "y = original_cleaned_df[\"label_encoded\"]\n",
    "\n",
    "X_train, X_test, y_train, y_test = train_test_split(\n",
    "    X, y, test_size=0.2, random_state=42, stratify=y\n",
    ")\n",
    "\n",
    "print(f\"Training set size: {len(X_train)}\")\n",
    "print(f\"Test set size: {len(X_test)}\")"
   ]
  },
  {
   "cell_type": "code",
   "execution_count": null,
   "metadata": {},
   "outputs": [],
   "source": [
    "# Visualize the binary class distribution in training set\n",
    "plt.figure(figsize=(10, 6))\n",
    "sns.countplot(x=y_train, palette=\"viridis\")\n",
    "plt.title(\"Binary Class Distribution in Training Set\")\n",
    "plt.xlabel(\"Class Label\")\n",
    "plt.xticks([0, 1], [\"Not Bullying (0)\", \"Bullying (1)\"])\n",
    "plt.ylabel(\"Count\")\n",
    "plt.tight_layout()\n",
    "plt.show()"
   ]
  },
  {
   "cell_type": "markdown",
   "metadata": {},
   "source": [
    "## 4. Text Tokenization and Vectorization Via BanglaBERT"
   ]
  },
  {
   "cell_type": "code",
   "execution_count": null,
   "metadata": {},
   "outputs": [],
   "source": [
    "bangla_bert_tokenizer = AutoTokenizer.from_pretrained(\"sagorsarker/bangla-bert-base\")\n",
    "bangla_bert_model = AutoModel.from_pretrained(\"sagorsarker/bangla-bert-base\")"
   ]
  },
  {
   "cell_type": "code",
   "execution_count": null,
   "metadata": {},
   "outputs": [],
   "source": [
    "def fit_and_return_hidden_layer(input_text_array: np.ndarray):\n",
    "    \"\"\"\n",
    "    Fit the input array to the Bengali BERT model and return the concatenated last 4 hidden layers.\n",
    "    \"\"\"\n",
    "    torch.cuda.empty_cache()\n",
    "    tokenized_input = bangla_bert_tokenizer(\n",
    "        input_text_array.tolist(),\n",
    "        padding=True,\n",
    "        truncation=True,\n",
    "        return_tensors=\"pt\",\n",
    "        max_length=100,\n",
    "    )\n",
    "\n",
    "    # Move the tokenized input to GPU\n",
    "    tokenized_input = {k: v.to(MY_DEVICE) for k, v in tokenized_input.items()}\n",
    "\n",
    "    # Put model in eval mode and move to GPU if not already there\n",
    "    bangla_bert_model.eval()\n",
    "    bangla_bert_model.to(MY_DEVICE)\n",
    "\n",
    "    # Process in batches to avoid memory issues\n",
    "    batch_size = 32\n",
    "    num_samples = tokenized_input[\"input_ids\"].shape[0]\n",
    "    all_hidden_layers = []\n",
    "\n",
    "    with torch.no_grad():  # Don't compute gradients for inference\n",
    "        for i in range(0, num_samples, batch_size):\n",
    "            batch_input = {k: v[i : i + batch_size] for k, v in tokenized_input.items()}\n",
    "\n",
    "            with torch.amp.autocast(device_type=\"cuda\"):\n",
    "                outputs = bangla_bert_model(**batch_input, output_hidden_states=True)\n",
    "                hidden_states = (\n",
    "                    outputs.hidden_states\n",
    "                )  # Tuple containing all hidden layers\n",
    "\n",
    "                # Get the last 4 hidden layers and concatenate them\n",
    "                last_4_layers = torch.cat(hidden_states[-4:], dim=-1)\n",
    "\n",
    "                # Average across all tokens (mean pooling)\n",
    "                hidden_layer = last_4_layers.mean(dim=1)\n",
    "\n",
    "            # Move to CPU and detach from computation graph\n",
    "            hidden_layer_cpu = hidden_layer.detach().cpu()\n",
    "            reshaped_hidden_layer = hidden_layer_cpu.reshape(\n",
    "                hidden_layer_cpu.shape[0], -1\n",
    "            )\n",
    "            all_hidden_layers.append(reshaped_hidden_layer)\n",
    "\n",
    "    # Concatenate all batches\n",
    "    combined_hidden_layers = torch.cat(all_hidden_layers, dim=0)\n",
    "\n",
    "    return combined_hidden_layers.numpy()"
   ]
  },
  {
   "cell_type": "code",
   "execution_count": null,
   "metadata": {},
   "outputs": [],
   "source": [
    "# Apply tokenization and vectorization to training data\n",
    "print(\"Vectorizing training data...\")\n",
    "start_time = time.time()\n",
    "X_train_vectors = fit_and_return_hidden_layer(X_train.values)\n",
    "print(\n",
    "    f\"Training data vectorization completed in {time.time() - start_time:.2f} seconds\"\n",
    ")\n",
    "print(f\"Training data shape: {X_train_vectors.shape}\")"
   ]
  },
  {
   "cell_type": "code",
   "execution_count": null,
   "metadata": {},
   "outputs": [],
   "source": [
    "# Apply tokenization and vectorization to testing data\n",
    "print(\"Vectorizing testing data...\")\n",
    "start_time = time.time()\n",
    "X_test_vectors = fit_and_return_hidden_layer(X_test.values)\n",
    "print(f\"Testing data vectorization completed in {time.time() - start_time:.2f} seconds\")"
   ]
  },
  {
   "cell_type": "code",
   "execution_count": null,
   "metadata": {},
   "outputs": [],
   "source": [
    "# For runing without PCA\n",
    "X_train_pca = X_train_vectors\n",
    "X_test_pca = X_test_vectors\n",
    "\n",
    "# Dimensionality reduction to visualize the features\n",
    "\n",
    "\n",
    "# scaler = StandardScaler()\n",
    "\n",
    "# print(\"Performing dimensionality reduction...\")\n",
    "# start_time = time.time()\n",
    "\n",
    "# # First use PCA to reduce to 50 dimensions (makes t-SNE faster)\n",
    "# print(\"Applying PCA...\")\n",
    "# pca = PCA(n_components=0.95, random_state=42)  # Keep 95% of variance\n",
    "# X_train_pca = pca.fit_transform(scaler.fit_transform(X_train_vectors))\n",
    "# X_test_pca = pca.transform(scaler.transform(X_test_vectors))\n",
    "# print(f\"PCA completed in {time.time() - start_time:.2f} seconds\")\n",
    "\n",
    "# Then apply t-SNE on the PCA results\n",
    "# print(\"Applying t-SNE...\")\n",
    "# tsne = TSNE(n_components=2, random_state=42, perplexity=30, n_jobs=-1)\n",
    "# X_train_tsne = tsne.fit_transform(X_train_pca)\n",
    "# print(f\"t-SNE completed in {time.time() - start_time:.2f} seconds\")\n",
    "\n",
    "# # Visualize the 2D projection\n",
    "# plt.figure(figsize=(12, 10))\n",
    "# scatter = plt.scatter(\n",
    "#     X_train_tsne[:, 0],\n",
    "#     X_train_tsne[:, 1],\n",
    "#     c=y_train_augmented,\n",
    "#     alpha=0.5,\n",
    "#     cmap=\"viridis\",\n",
    "# )\n",
    "# plt.colorbar(scatter, label=\"Class\")\n",
    "# plt.title(\"t-SNE Visualization of BERT Embeddings\")\n",
    "# plt.xlabel(\"t-SNE Dimension 1\")\n",
    "# plt.ylabel(\"t-SNE Dimension 2\")\n",
    "# plt.tight_layout()\n",
    "# plt.show()"
   ]
  },
  {
   "cell_type": "markdown",
   "metadata": {},
   "source": [
    "## 5. Training XGB Model"
   ]
  },
  {
   "cell_type": "code",
   "execution_count": null,
   "metadata": {},
   "outputs": [],
   "source": [
    "# Configure and train XGB classifier\n",
    "print(\"Training XGB model...\")\n",
    "# Parameters optimized for text embeddings\n",
    "xgb_model = XGBClassifier(\n",
    "    n_estimators=200,  # Number of boosting rounds\n",
    "    max_depth=6,  # Maximum tree depth\n",
    "    learning_rate=0.1,  # Step size shrinkage used to prevent overfitting\n",
    "    min_child_weight=1,  # Minimum sum of instance weight needed in a child\n",
    "    gamma=0,  # Minimum loss reduction required for further partition\n",
    "    subsample=0.8,  # Fraction of samples used for fitting trees\n",
    "    colsample_bytree=0.8,  # Fraction of features used for fitting trees\n",
    "    scale_pos_weight=1,  # Control the balance of positive and negative weights\n",
    "    objective=\"binary:logistic\",  # Binary classification objective\n",
    "    random_state=42,\n",
    "    n_jobs=-1,  # Use all processors\n",
    ")\n",
    "\n",
    "start_time = time.time()\n",
    "xgb_model.fit(X_train_pca, y_train)\n",
    "training_time = time.time() - start_time\n",
    "print(f\"Model trained in {training_time:.2f} seconds\")"
   ]
  },
  {
   "cell_type": "markdown",
   "metadata": {},
   "source": [
    "## 6. Model Evaluation - Basic Metrics"
   ]
  },
  {
   "cell_type": "code",
   "execution_count": null,
   "metadata": {},
   "outputs": [],
   "source": [
    "# Make predictions and calculate basic metrics\n",
    "print(\"Evaluating model...\")\n",
    "y_pred = xgb_model.predict(X_test_pca)\n",
    "\n",
    "# Calculate basic metrics\n",
    "accuracy = accuracy_score(y_test, y_pred)\n",
    "precision = precision_score(y_test, y_pred, average=\"weighted\")\n",
    "recall = recall_score(y_test, y_pred, average=\"weighted\")\n",
    "f1 = f1_score(y_test, y_pred, average=\"weighted\")\n",
    "\n",
    "print(f\"Accuracy: {accuracy:.4f}\")\n",
    "print(f\"Precision: {precision:.4f}\")\n",
    "print(f\"Recall: {recall:.4f}\")\n",
    "print(f\"F1 Score: {f1:.4f}\")"
   ]
  },
  {
   "cell_type": "code",
   "execution_count": null,
   "metadata": {},
   "outputs": [],
   "source": [
    "# Display classification report for binary classification\n",
    "print(\"Classification Report:\")\n",
    "print(classification_report(y_test, y_pred, target_names=[\"Not Bullying\", \"Bullying\"]))"
   ]
  },
  {
   "cell_type": "markdown",
   "metadata": {},
   "source": [
    "## 7. Confusion Matrix Visualization"
   ]
  },
  {
   "cell_type": "code",
   "execution_count": null,
   "metadata": {},
   "outputs": [],
   "source": [
    "# Create and display confusion matrix for binary classification\n",
    "plt.figure(figsize=(8, 6))\n",
    "cm = confusion_matrix(y_test, y_pred)\n",
    "cm_norm = cm.astype(\"float\") / cm.sum(axis=1)[:, np.newaxis]  # Normalize\n",
    "sns.heatmap(\n",
    "    cm_norm,\n",
    "    annot=True,\n",
    "    fmt=\".2f\",\n",
    "    cmap=\"Blues\",\n",
    "    xticklabels=[\"Not Bullying\", \"Bullying\"],\n",
    "    yticklabels=[\"Not Bullying\", \"Bullying\"],\n",
    ")\n",
    "plt.xlabel(\"Predicted Label\")\n",
    "plt.ylabel(\"True Label\")\n",
    "plt.title(\"Binary Classification Confusion Matrix\")\n",
    "plt.tight_layout()\n",
    "plt.show()"
   ]
  },
  {
   "cell_type": "markdown",
   "metadata": {},
   "source": [
    "## 8. Feature Importance Analysis"
   ]
  },
  {
   "cell_type": "code",
   "execution_count": null,
   "metadata": {},
   "outputs": [],
   "source": [
    "# Analyze feature importance\n",
    "feature_importance = pd.DataFrame(\n",
    "    {\n",
    "        \"Feature\": [f\"Feature_{i}\" for i in range(X_train_pca.shape[1])],\n",
    "        \"Importance\": xgb_model.feature_importances_,\n",
    "    }\n",
    ")\n",
    "feature_importance = feature_importance.sort_values(\"Importance\", ascending=False).head(\n",
    "    20\n",
    ")\n",
    "\n",
    "plt.figure(figsize=(12, 8))\n",
    "sns.barplot(x=\"Importance\", y=\"Feature\", data=feature_importance, palette=\"viridis\")\n",
    "plt.title(\"Top 20 Important Features\")\n",
    "plt.tight_layout()\n",
    "plt.show()"
   ]
  },
  {
   "cell_type": "markdown",
   "metadata": {},
   "source": [
    "## 9. ROC Curve Analysis"
   ]
  },
  {
   "cell_type": "code",
   "execution_count": null,
   "metadata": {},
   "outputs": [],
   "source": [
    "# ROC Curve and AUC for binary classification\n",
    "y_score = xgb_model.predict_proba(X_test_pca)[:, 1]  # Probability of positive class\n",
    "\n",
    "# Calculate ROC curve and ROC area\n",
    "fpr, tpr, _ = roc_curve(y_test, y_score)\n",
    "roc_auc = auc(fpr, tpr)\n",
    "\n",
    "plt.figure(figsize=(10, 8))\n",
    "plt.plot(fpr, tpr, color=\"darkorange\", lw=2, label=f\"ROC curve (area = {roc_auc:.2f})\")\n",
    "plt.plot([0, 1], [0, 1], color=\"navy\", lw=2, linestyle=\"--\")\n",
    "plt.xlim([0.0, 1.0])\n",
    "plt.ylim([0.0, 1.05])\n",
    "plt.xlabel(\"False Positive Rate\")\n",
    "plt.ylabel(\"True Positive Rate\")\n",
    "plt.title(\"Binary Classification ROC Curve\")\n",
    "plt.legend(loc=\"lower right\")\n",
    "plt.tight_layout()\n",
    "plt.show()"
   ]
  },
  {
   "cell_type": "markdown",
   "metadata": {},
   "source": [
    "## 10. Precision-Recall Curve Analysis"
   ]
  },
  {
   "cell_type": "code",
   "execution_count": null,
   "metadata": {},
   "outputs": [],
   "source": [
    "# Calculate Precision-Recall curve for binary classification\n",
    "precision, recall, _ = precision_recall_curve(y_test, y_score)\n",
    "avg_precision = precision_score(y_test, y_pred)\n",
    "\n",
    "plt.figure(figsize=(10, 8))\n",
    "plt.plot(\n",
    "    recall,\n",
    "    precision,\n",
    "    color=\"blue\",\n",
    "    lw=2,\n",
    "    label=f\"Precision-Recall curve (AP = {avg_precision:.2f})\",\n",
    ")\n",
    "plt.xlabel(\"Recall\")\n",
    "plt.ylabel(\"Precision\")\n",
    "plt.ylim([0.0, 1.05])\n",
    "plt.xlim([0.0, 1.0])\n",
    "plt.title(\"Binary Classification Precision-Recall Curve\")\n",
    "plt.legend(loc=\"lower left\")\n",
    "plt.tight_layout()\n",
    "plt.show()"
   ]
  },
  {
   "cell_type": "markdown",
   "metadata": {},
   "source": [
    "## 12. Model Summary and Saving"
   ]
  },
  {
   "cell_type": "code",
   "execution_count": null,
   "metadata": {},
   "outputs": [],
   "source": [
    "# Summary of the binary classification model\n",
    "print(\"Binary Classification Model Summary:\")\n",
    "print(f\"Total samples in training set (without augmentation): {len(X_train)}\")\n",
    "print(f\"Total samples in test set: {len(X_test)}\")\n",
    "print(f\"Number of features (vector dimension): {X_train_vectors.shape[1]}\")\n",
    "print(f\"Final model accuracy on test set: {accuracy:.4f}\")\n",
    "plt.show()"
   ]
  },
  {
   "cell_type": "code",
   "execution_count": null,
   "metadata": {},
   "outputs": [],
   "source": [
    "# Save the model if needed\n",
    "import joblib\n",
    "\n",
    "joblib.dump(xgb_model, \"../../models/bangla_bert/no_augment_binary_bangla_bert_tuned_xgb.pkl\")"
   ]
  }
 ],
 "metadata": {
  "kernelspec": {
   "display_name": "venv",
   "language": "python",
   "name": "python3"
  },
  "language_info": {
   "codemirror_mode": {
    "name": "ipython",
    "version": 3
   },
   "file_extension": ".py",
   "mimetype": "text/x-python",
   "name": "python",
   "nbconvert_exporter": "python",
   "pygments_lexer": "ipython3",
   "version": "3.12.3"
  }
 },
 "nbformat": 4,
 "nbformat_minor": 2
}
