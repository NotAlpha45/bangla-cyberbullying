{
 "cells": [
  {
   "cell_type": "code",
   "execution_count": 20,
   "metadata": {},
   "outputs": [],
   "source": [
    "import pandas as pd"
   ]
  },
  {
   "cell_type": "markdown",
   "metadata": {},
   "source": [
    "## Observing the comments dataset\n"
   ]
  },
  {
   "cell_type": "code",
   "execution_count": 21,
   "metadata": {},
   "outputs": [],
   "source": [
    "original_comments_dataset = pd.read_excel(\n",
    "    \"../dataset/Original_comments_dataset.xlsx\",\n",
    "    sheet_name=\"Sheet1\",\n",
    ")\n",
    "\n",
    "original_comments_dataset = original_comments_dataset.dropna(subset=[\"comment\"])\n",
    "\n",
    "# Remove the rows with the same comment\n",
    "original_comments_dataset = original_comments_dataset.drop_duplicates(\n",
    "    subset=[\"comment\"]\n",
    ")\n",
    "\n",
    "# Remove the rows with empty comments\n",
    "original_comments_dataset = original_comments_dataset[\n",
    "    original_comments_dataset[\"comment\"] != \"\"\n",
    "]"
   ]
  },
  {
   "cell_type": "code",
   "execution_count": 22,
   "metadata": {},
   "outputs": [
    {
     "data": {
      "text/html": [
       "<div>\n",
       "<style scoped>\n",
       "    .dataframe tbody tr th:only-of-type {\n",
       "        vertical-align: middle;\n",
       "    }\n",
       "\n",
       "    .dataframe tbody tr th {\n",
       "        vertical-align: top;\n",
       "    }\n",
       "\n",
       "    .dataframe thead th {\n",
       "        text-align: right;\n",
       "    }\n",
       "</style>\n",
       "<table border=\"1\" class=\"dataframe\">\n",
       "  <thead>\n",
       "    <tr style=\"text-align: right;\">\n",
       "      <th></th>\n",
       "      <th>comment</th>\n",
       "      <th>Category</th>\n",
       "      <th>Gender</th>\n",
       "      <th>comment react number</th>\n",
       "      <th>label</th>\n",
       "    </tr>\n",
       "  </thead>\n",
       "  <tbody>\n",
       "    <tr>\n",
       "      <th>0</th>\n",
       "      <td>ওই হালার পুত এখন কি মদ খাওয়ার সময় রাতের বেলা...</td>\n",
       "      <td>Actor</td>\n",
       "      <td>Female</td>\n",
       "      <td>1.0</td>\n",
       "      <td>sexual</td>\n",
       "    </tr>\n",
       "    <tr>\n",
       "      <th>1</th>\n",
       "      <td>ঘরে বসে শুট করতে কেমন লেগেছে? ক্যামেরাতে কে ছি...</td>\n",
       "      <td>Singer</td>\n",
       "      <td>Male</td>\n",
       "      <td>2.0</td>\n",
       "      <td>not bully</td>\n",
       "    </tr>\n",
       "    <tr>\n",
       "      <th>2</th>\n",
       "      <td>অরে বাবা, এই টা কোন পাগল????</td>\n",
       "      <td>Actor</td>\n",
       "      <td>Female</td>\n",
       "      <td>2.0</td>\n",
       "      <td>not bully</td>\n",
       "    </tr>\n",
       "    <tr>\n",
       "      <th>3</th>\n",
       "      <td>ক্যাপ্টেন অফ বাংলাদেশ</td>\n",
       "      <td>Sports</td>\n",
       "      <td>Male</td>\n",
       "      <td>0.0</td>\n",
       "      <td>not bully</td>\n",
       "    </tr>\n",
       "    <tr>\n",
       "      <th>4</th>\n",
       "      <td>পটকা মাছ</td>\n",
       "      <td>Politician</td>\n",
       "      <td>Male</td>\n",
       "      <td>0.0</td>\n",
       "      <td>troll</td>\n",
       "    </tr>\n",
       "  </tbody>\n",
       "</table>\n",
       "</div>"
      ],
      "text/plain": [
       "                                             comment    Category  Gender   \n",
       "0  ওই হালার পুত এখন কি মদ খাওয়ার সময় রাতের বেলা...       Actor  Female  \\\n",
       "1  ঘরে বসে শুট করতে কেমন লেগেছে? ক্যামেরাতে কে ছি...      Singer    Male   \n",
       "2                       অরে বাবা, এই টা কোন পাগল????       Actor  Female   \n",
       "3                              ক্যাপ্টেন অফ বাংলাদেশ      Sports    Male   \n",
       "4                                           পটকা মাছ  Politician    Male   \n",
       "\n",
       "   comment react number      label  \n",
       "0                   1.0     sexual  \n",
       "1                   2.0  not bully  \n",
       "2                   2.0  not bully  \n",
       "3                   0.0  not bully  \n",
       "4                   0.0      troll  "
      ]
     },
     "execution_count": 22,
     "metadata": {},
     "output_type": "execute_result"
    }
   ],
   "source": [
    "original_comments_dataset.head()"
   ]
  },
  {
   "cell_type": "code",
   "execution_count": 27,
   "metadata": {},
   "outputs": [
    {
     "data": {
      "text/html": [
       "<div>\n",
       "<style scoped>\n",
       "    .dataframe tbody tr th:only-of-type {\n",
       "        vertical-align: middle;\n",
       "    }\n",
       "\n",
       "    .dataframe tbody tr th {\n",
       "        vertical-align: top;\n",
       "    }\n",
       "\n",
       "    .dataframe thead th {\n",
       "        text-align: right;\n",
       "    }\n",
       "</style>\n",
       "<table border=\"1\" class=\"dataframe\">\n",
       "  <thead>\n",
       "    <tr style=\"text-align: right;\">\n",
       "      <th></th>\n",
       "      <th>text</th>\n",
       "      <th>label</th>\n",
       "    </tr>\n",
       "  </thead>\n",
       "  <tbody>\n",
       "    <tr>\n",
       "      <th>0</th>\n",
       "      <td>ওই হালার পুত এখন কি মদ খাওয়ার সময় রাতের বেলা...</td>\n",
       "      <td>sexual</td>\n",
       "    </tr>\n",
       "    <tr>\n",
       "      <th>1</th>\n",
       "      <td>ঘরে বসে শুট করতে কেমন লেগেছে? ক্যামেরাতে কে ছি...</td>\n",
       "      <td>not bully</td>\n",
       "    </tr>\n",
       "    <tr>\n",
       "      <th>2</th>\n",
       "      <td>অরে বাবা, এই টা কোন পাগল????</td>\n",
       "      <td>not bully</td>\n",
       "    </tr>\n",
       "    <tr>\n",
       "      <th>3</th>\n",
       "      <td>ক্যাপ্টেন অফ বাংলাদেশ</td>\n",
       "      <td>not bully</td>\n",
       "    </tr>\n",
       "    <tr>\n",
       "      <th>4</th>\n",
       "      <td>পটকা মাছ</td>\n",
       "      <td>troll</td>\n",
       "    </tr>\n",
       "  </tbody>\n",
       "</table>\n",
       "</div>"
      ],
      "text/plain": [
       "                                                text      label\n",
       "0  ওই হালার পুত এখন কি মদ খাওয়ার সময় রাতের বেলা...     sexual\n",
       "1  ঘরে বসে শুট করতে কেমন লেগেছে? ক্যামেরাতে কে ছি...  not bully\n",
       "2                       অরে বাবা, এই টা কোন পাগল????  not bully\n",
       "3                              ক্যাপ্টেন অফ বাংলাদেশ  not bully\n",
       "4                                           পটকা মাছ      troll"
      ]
     },
     "execution_count": 27,
     "metadata": {},
     "output_type": "execute_result"
    }
   ],
   "source": [
    "final_augmented_balanced_dataset = pd.read_csv(\n",
    "    \"../dataset/Final_augmented_balanced_dataset 58812.csv\",\n",
    "    engine=\"pyarrow\",\n",
    "    encoding=\"utf-8\",\n",
    ")\n",
    "\n",
    "final_augmented_balanced_dataset.head()"
   ]
  },
  {
   "cell_type": "markdown",
   "metadata": {},
   "source": [
    "# Text Cleaning and Preprocessing\n"
   ]
  },
  {
   "cell_type": "code",
   "execution_count": 23,
   "metadata": {},
   "outputs": [],
   "source": [
    "from utils.text_cleaning_utils import TextCleaner"
   ]
  },
  {
   "cell_type": "code",
   "execution_count": 24,
   "metadata": {},
   "outputs": [],
   "source": [
    "text_cleaner = TextCleaner()"
   ]
  },
  {
   "cell_type": "code",
   "execution_count": 25,
   "metadata": {},
   "outputs": [
    {
     "data": {
      "text/plain": [
       "0        হালার পুত মদ খাওয়ার সময় রাতের বেলা মদ খাই দি...\n",
       "1                           ঘরে শুট কেমন লেগেছে ক্যামেরাতে\n",
       "2                                         অরে বাবা টা পাগল\n",
       "3                                    ক্যাপ্টেন অফ বাংলাদেশ\n",
       "4                                                 পটকা মাছ\n",
       "                               ...                        \n",
       "43996                                   হিরো আলম এগিয়ে যাও\n",
       "43997             হিরো আলমকে সাপোর্ট অসংখ্য ধন্যবাদ আপনাকে\n",
       "43998                                   হিরো ভাই এগিয়ে য়াও\n",
       "43999            হুম ভাও তোমরা এগিয়ে যাও তোমাদের পিছনে আছি\n",
       "44000                            হ্যালো তোমাদের সাথে চ্যাট\n",
       "Name: comment, Length: 43567, dtype: object"
      ]
     },
     "execution_count": 25,
     "metadata": {},
     "output_type": "execute_result"
    }
   ],
   "source": [
    "cleaned_sentences = (\n",
    "    original_comments_dataset[\"comment\"]\n",
    "    .apply(text_cleaner.remove_digits)\n",
    "    .apply(text_cleaner.remove_english_and_special_chars)\n",
    "    .apply(text_cleaner.remove_stopwords)\n",
    ")\n",
    "\n",
    "cleaned_sentences"
   ]
  },
  {
   "cell_type": "code",
   "execution_count": 31,
   "metadata": {},
   "outputs": [
    {
     "data": {
      "text/plain": [
       "0        হালার পুত মদ খাওয়ার সময় রাতের বেলা মদ খাই দি...\n",
       "1                           ঘরে শুট কেমন লেগেছে ক্যামেরাতে\n",
       "2                                         অরে বাবা টা পাগল\n",
       "3                                    ক্যাপ্টেন অফ বাংলাদেশ\n",
       "4                                                 পটকা মাছ\n",
       "                               ...                        \n",
       "58807                                                     \n",
       "58808                 মনের মত চুদব যতখন সামা দিয়া রক্ত বের\n",
       "58809    সেফু নামক এক ইসলাম বিদ্বেষীর কুরআন রাসুল সঃ অপ...\n",
       "58810                    জুতা মেরে গরু দান পুকি মেরে দিলা।\n",
       "58811                                  মারুন রে জাহেদ জুতা\n",
       "Name: text, Length: 58812, dtype: object"
      ]
     },
     "execution_count": 31,
     "metadata": {},
     "output_type": "execute_result"
    }
   ],
   "source": [
    "augmented_and_original_comments = (\n",
    "    final_augmented_balanced_dataset[\"text\"]\n",
    "    .apply(text_cleaner.remove_digits)\n",
    "    .apply(text_cleaner.remove_english_and_special_chars)\n",
    "    .apply(text_cleaner.remove_stopwords)\n",
    ")\n",
    "augmented_and_original_comments"
   ]
  },
  {
   "cell_type": "code",
   "execution_count": 32,
   "metadata": {},
   "outputs": [
    {
     "data": {
      "text/plain": [
       "44002    খানকিরা জানে খানকি বিত্তি কিভাবে আল্লাহতালা নর...\n",
       "44005    তুই বড়যাত্রা এসেছ জুতা দেখেশিসতাহলে তর মাবাপের...\n",
       "44006    এক সাক্ষাৎকারে মেয়েটি বলেছে বিশ্বাস না। ইসলাম...\n",
       "44007                                  নাস্তিকের প্রার্থনা\n",
       "44008    আজকাল লম্পট অশিক্ষিত ব্যক্তি মুখ বের আনে শীঘ্র...\n",
       "                               ...                        \n",
       "58804                              বোন বড় ভক্ত ছিলাম বললে\n",
       "58806                            পেতাম জুতা তোমাকে মারতাম।\n",
       "58809    সেফু নামক এক ইসলাম বিদ্বেষীর কুরআন রাসুল সঃ অপ...\n",
       "58810                    জুতা মেরে গরু দান পুকি মেরে দিলা।\n",
       "58811                                  মারুন রে জাহেদ জুতা\n",
       "Name: text, Length: 6980, dtype: object"
      ]
     },
     "execution_count": 32,
     "metadata": {},
     "output_type": "execute_result"
    }
   ],
   "source": [
    "only_augmented_comments = augmented_and_original_comments[\n",
    "    ~augmented_and_original_comments.isin(cleaned_sentences)\n",
    "]\n",
    "\n",
    "only_augmented_comments"
   ]
  },
  {
   "cell_type": "code",
   "execution_count": 26,
   "metadata": {},
   "outputs": [],
   "source": []
  },
  {
   "cell_type": "code",
   "execution_count": null,
   "metadata": {},
   "outputs": [],
   "source": []
  }
 ],
 "metadata": {
  "kernelspec": {
   "display_name": "venv",
   "language": "python",
   "name": "python3"
  },
  "language_info": {
   "codemirror_mode": {
    "name": "ipython",
    "version": 3
   },
   "file_extension": ".py",
   "mimetype": "text/x-python",
   "name": "python",
   "nbconvert_exporter": "python",
   "pygments_lexer": "ipython3",
   "version": "3.12.3"
  }
 },
 "nbformat": 4,
 "nbformat_minor": 2
}
