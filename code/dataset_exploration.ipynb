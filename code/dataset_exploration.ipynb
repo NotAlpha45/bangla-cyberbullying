{
 "cells": [
  {
   "cell_type": "code",
   "execution_count": 1,
   "metadata": {},
   "outputs": [],
   "source": [
    "import pandas as pd"
   ]
  },
  {
   "cell_type": "markdown",
   "metadata": {},
   "source": [
    "## Observing the comments dataset"
   ]
  },
  {
   "cell_type": "code",
   "execution_count": 2,
   "metadata": {},
   "outputs": [],
   "source": [
    "original_comments_dataset = pd.read_excel(\n",
    "    \"../dataset/Original_comments_dataset.xlsx\",\n",
    "    sheet_name=\"Sheet1\",\n",
    ")\n",
    "\n",
    "original_comments_dataset = original_comments_dataset.dropna(subset=[\"comment\"])\n",
    "\n",
    "# Remove the rows with the same comment\n",
    "original_comments_dataset = original_comments_dataset.drop_duplicates(\n",
    "    subset=[\"comment\"]\n",
    ")\n",
    "\n",
    "# Remove the rows with empty comments\n",
    "original_comments_dataset = original_comments_dataset[\n",
    "    original_comments_dataset[\"comment\"] != \"\"\n",
    "]\n"
   ]
  },
  {
   "cell_type": "code",
   "execution_count": 3,
   "metadata": {},
   "outputs": [
    {
     "data": {
      "text/html": [
       "<div>\n",
       "<style scoped>\n",
       "    .dataframe tbody tr th:only-of-type {\n",
       "        vertical-align: middle;\n",
       "    }\n",
       "\n",
       "    .dataframe tbody tr th {\n",
       "        vertical-align: top;\n",
       "    }\n",
       "\n",
       "    .dataframe thead th {\n",
       "        text-align: right;\n",
       "    }\n",
       "</style>\n",
       "<table border=\"1\" class=\"dataframe\">\n",
       "  <thead>\n",
       "    <tr style=\"text-align: right;\">\n",
       "      <th></th>\n",
       "      <th>comment</th>\n",
       "      <th>Category</th>\n",
       "      <th>Gender</th>\n",
       "      <th>comment react number</th>\n",
       "      <th>label</th>\n",
       "    </tr>\n",
       "  </thead>\n",
       "  <tbody>\n",
       "    <tr>\n",
       "      <th>0</th>\n",
       "      <td>ওই হালার পুত এখন কি মদ খাওয়ার সময় রাতের বেলা...</td>\n",
       "      <td>Actor</td>\n",
       "      <td>Female</td>\n",
       "      <td>1.0</td>\n",
       "      <td>sexual</td>\n",
       "    </tr>\n",
       "    <tr>\n",
       "      <th>1</th>\n",
       "      <td>ঘরে বসে শুট করতে কেমন লেগেছে? ক্যামেরাতে কে ছি...</td>\n",
       "      <td>Singer</td>\n",
       "      <td>Male</td>\n",
       "      <td>2.0</td>\n",
       "      <td>not bully</td>\n",
       "    </tr>\n",
       "    <tr>\n",
       "      <th>2</th>\n",
       "      <td>অরে বাবা, এই টা কোন পাগল????</td>\n",
       "      <td>Actor</td>\n",
       "      <td>Female</td>\n",
       "      <td>2.0</td>\n",
       "      <td>not bully</td>\n",
       "    </tr>\n",
       "    <tr>\n",
       "      <th>3</th>\n",
       "      <td>ক্যাপ্টেন অফ বাংলাদেশ</td>\n",
       "      <td>Sports</td>\n",
       "      <td>Male</td>\n",
       "      <td>0.0</td>\n",
       "      <td>not bully</td>\n",
       "    </tr>\n",
       "    <tr>\n",
       "      <th>4</th>\n",
       "      <td>পটকা মাছ</td>\n",
       "      <td>Politician</td>\n",
       "      <td>Male</td>\n",
       "      <td>0.0</td>\n",
       "      <td>troll</td>\n",
       "    </tr>\n",
       "  </tbody>\n",
       "</table>\n",
       "</div>"
      ],
      "text/plain": [
       "                                             comment    Category  Gender   \n",
       "0  ওই হালার পুত এখন কি মদ খাওয়ার সময় রাতের বেলা...       Actor  Female  \\\n",
       "1  ঘরে বসে শুট করতে কেমন লেগেছে? ক্যামেরাতে কে ছি...      Singer    Male   \n",
       "2                       অরে বাবা, এই টা কোন পাগল????       Actor  Female   \n",
       "3                              ক্যাপ্টেন অফ বাংলাদেশ      Sports    Male   \n",
       "4                                           পটকা মাছ  Politician    Male   \n",
       "\n",
       "   comment react number      label  \n",
       "0                   1.0     sexual  \n",
       "1                   2.0  not bully  \n",
       "2                   2.0  not bully  \n",
       "3                   0.0  not bully  \n",
       "4                   0.0      troll  "
      ]
     },
     "execution_count": 3,
     "metadata": {},
     "output_type": "execute_result"
    }
   ],
   "source": [
    "original_comments_dataset.head()"
   ]
  },
  {
   "cell_type": "markdown",
   "metadata": {},
   "source": [
    "# Text Cleaning and Preprocessing"
   ]
  },
  {
   "cell_type": "code",
   "execution_count": 5,
   "metadata": {},
   "outputs": [],
   "source": [
    "from utils.text_cleaning_utils import TextCleaner"
   ]
  },
  {
   "cell_type": "code",
   "execution_count": 6,
   "metadata": {},
   "outputs": [],
   "source": [
    "text_cleaner = TextCleaner()"
   ]
  },
  {
   "cell_type": "code",
   "execution_count": 9,
   "metadata": {},
   "outputs": [
    {
     "data": {
      "text/plain": [
       "0        হালার পুত মদ খাওয়ার সময় রাতের বেলা মদ খাই দি...\n",
       "1                           ঘরে শুট কেমন লেগেছে ক্যামেরাতে\n",
       "2                                         অরে বাবা টা পাগল\n",
       "3                                    ক্যাপ্টেন অফ বাংলাদেশ\n",
       "4                                                 পটকা মাছ\n",
       "                               ...                        \n",
       "43996                                   হিরো আলম এগিয়ে যাও\n",
       "43997             হিরো আলমকে সাপোর্ট অসংখ্য ধন্যবাদ আপনাকে\n",
       "43998                                   হিরো ভাই এগিয়ে য়াও\n",
       "43999            হুম ভাও তোমরা এগিয়ে যাও তোমাদের পিছনে আছি\n",
       "44000                            হ্যালো তোমাদের সাথে চ্যাট\n",
       "Name: comment, Length: 43567, dtype: object"
      ]
     },
     "execution_count": 9,
     "metadata": {},
     "output_type": "execute_result"
    }
   ],
   "source": [
    "cleaned_sentences = (\n",
    "    original_comments_dataset[\"comment\"]\n",
    "    .apply(text_cleaner.remove_digits)\n",
    "    .apply(text_cleaner.remove_english_and_special_chars)\n",
    "    .apply(text_cleaner.remove_stopwords)\n",
    "    .apply(lambda x: x.strip())\n",
    ")\n",
    "\n",
    "cleaned_sentences"
   ]
  }
 ],
 "metadata": {
  "kernelspec": {
   "display_name": "venv",
   "language": "python",
   "name": "python3"
  },
  "language_info": {
   "codemirror_mode": {
    "name": "ipython",
    "version": 3
   },
   "file_extension": ".py",
   "mimetype": "text/x-python",
   "name": "python",
   "nbconvert_exporter": "python",
   "pygments_lexer": "ipython3",
   "version": "3.12.3"
  }
 },
 "nbformat": 4,
 "nbformat_minor": 2
}
